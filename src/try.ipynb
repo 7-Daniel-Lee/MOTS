{
 "cells": [
  {
   "cell_type": "code",
   "execution_count": null,
   "metadata": {},
   "outputs": [],
   "source": [
    "import numpy as np"
   ]
  },
  {
   "cell_type": "code",
   "execution_count": null,
   "metadata": {},
   "outputs": [],
   "source": [
    "g = np.load('/home/xzleo/tracking/Radar_PointNet_Panoptic_Segmentation/data/SegmentAllFrames.npy', allow_pickle='TRUE')\n",
    "print(type(g))"
   ]
  },
  {
   "cell_type": "code",
   "execution_count": null,
   "metadata": {},
   "outputs": [],
   "source": [
    "print(type(g))\n",
    "print(type(g.item()))\n",
    "print(g.item()[0])"
   ]
  },
  {
   "cell_type": "code",
   "execution_count": null,
   "metadata": {},
   "outputs": [],
   "source": [
    "with open('../data/exam.txt','a') as file0:\n",
    "    print(g,file=file0)"
   ]
  }
 ],
 "metadata": {
  "kernelspec": {
   "display_name": "Python 3.9.5 ('base')",
   "language": "python",
   "name": "python3"
  },
  "language_info": {
   "codemirror_mode": {
    "name": "ipython",
    "version": 3
   },
   "file_extension": ".py",
   "mimetype": "text/x-python",
   "name": "python",
   "nbconvert_exporter": "python",
   "pygments_lexer": "ipython3",
   "version": "3.9.5"
  },
  "orig_nbformat": 4,
  "vscode": {
   "interpreter": {
    "hash": "e78be7dc4dbd5b69efa1cfd97bfc519c9d5234b2ff0399e21d5a2ec369e00446"
   }
  }
 },
 "nbformat": 4,
 "nbformat_minor": 2
}
